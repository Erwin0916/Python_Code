{
 "cells": [
  {
   "cell_type": "markdown",
   "id": "b244af5b",
   "metadata": {},
   "source": [
    "## 1. Initialization & 2. Communication reset & 3-1. joint_Position data acquisition"
   ]
  },
  {
   "cell_type": "code",
   "execution_count": 1,
   "id": "3f4c0a9c",
   "metadata": {},
   "outputs": [
    {
     "name": "stdout",
     "output_type": "stream",
     "text": [
      "real robot: True\n",
      "simulation robot: True\n",
      "Connect: Server IP (192.168.120.163)\n",
      "Connect: Server IP (192.168.120.163)\n",
      "joint0\n",
      "joint1\n",
      "joint2\n",
      "joint3\n",
      "joint4\n",
      "joint5\n",
      "\n",
      "Joint Position (real): [29.82  5.   58.86 -0.   60.   25.  ]\n",
      "Joint Position (simulation): [0. 0. 0. 0. 0. 0.]\n",
      "\n",
      "Task Position (real): [  -0.38   -0.43    0.78 -147.79  -48.82  169.89]\n",
      "Task Position (simulation): [0. 0. 0. 0. 0. 0.]\n",
      "gripper_joint0\n",
      "gripper_joint1\n",
      "Gripper Joint Position (simulation): [0. 0.]\n",
      " \n",
      "GET Position finish!\n"
     ]
    }
   ],
   "source": [
    "import sys\n",
    "import os\n",
    "import math \n",
    "\n",
    "os.chdir(\"../\")\n",
    "path1 = os.getcwd()\n",
    "\n",
    "os.chdir(\"coppeliasim_utils\")\n",
    "path2 = os.getcwd()\n",
    "\n",
    "\n",
    "sys.path.append(path1)\n",
    "sys.path.append(path2)\n",
    "\n",
    "from indy_utils import indydcp_client as client\n",
    "from coppeliasim_utils import sim\n",
    "\n",
    "from time import sleep\n",
    "import time\n",
    "import json\n",
    "import threading\n",
    "import numpy as np\n",
    "import math\n",
    "import keyboard\n",
    "import threading\n",
    "\n",
    "#obot_ip = \"192.168.0.2\" # 다산에서\n",
    "#obot_ip = \"192.168.3.19\" \n",
    "robot_ip = \"192.168.120.163\"  # Robot (Indy) IP\n",
    "robot_name = \"NRMK-Indy7\"  # Robot name (Indy7)\n",
    "\n",
    "# Create class object (real robot)\n",
    "indy_actual = client.IndyDCPClient(robot_ip, robot_name)\n",
    "\n",
    "# Crate class object (simulation robot)`\n",
    "indy_virtual = sim.simxStart('127.0.0.1', 19997, True, True, 5000, 5)\n",
    "\n",
    "# Actual robot (Created: True, Not created: False)\n",
    "# Virtual robot (Created: True, Not created: False)\n",
    "print(\"real robot: {0}\\nsimulation robot: {1}\".format(bool(indy_actual), bool(not indy_virtual)))\n",
    "\n",
    "## 2. Communication reset========================================================\n",
    "# Reset TCP-IP communication (real robot)\n",
    "# For real robot\n",
    "indy_actual.connect()\n",
    "indy_actual.disconnect()\n",
    "\n",
    "\n",
    "##print(\"next\")\n",
    "# For simulation robot\n",
    "sim.simxFinish(indy_virtual)\n",
    "\n",
    "\n",
    "sleep(1)\n",
    "## 3-1. Position data acquisition======================================================\n",
    "# For real robot\n",
    "indy_actual.connect()\n",
    "\n",
    "indy_virtual = sim.simxStart('127.0.0.1', 19997, True, True, 5000, 5)\n",
    "result = sim.simxStartSimulation(indy_virtual,sim.simx_opmode_blocking)\n",
    "\n",
    "j_pos_act = indy_actual.get_joint_pos()\n",
    "t_pos_act = indy_actual.get_task_pos()\n",
    "\n",
    "# For simulation robota\n",
    "handles = []\n",
    "j_pos_vir = []\n",
    "t_pos_vir = []\n",
    "\n",
    "for i in range(6):\n",
    "    object_name = 'joint' + str(i)\n",
    "    print(object_name)\n",
    "    result, handle=sim.simxGetObjectHandle(indy_virtual, object_name, sim.simx_opmode_blocking)\n",
    "#     print(result,\",\", handle)\n",
    "#     print(sim.simx_return_ok)\n",
    "    if result != sim.simx_return_ok:\n",
    "        print(\"Except!!!!!!!!!!!\") \n",
    "        raise Exception('could not get object handle for first joint')                \n",
    "    else:\n",
    "        handles.append(handle)\n",
    "        result, jnt_angle = sim.simxGetJointPosition(indy_virtual, handle, sim.simx_opmode_oneshot)\n",
    "        j_pos_vir.append(jnt_angle/math.pi*180)\n",
    "        \n",
    "object_name = 'tool_coordinate'\n",
    "result, handle=sim.simxGetObjectHandle(indy_virtual, object_name, sim.simx_opmode_blocking)\n",
    "\n",
    "result, obj_pos = sim.simxGetObjectPosition(indy_virtual, handle, -1, sim.simx_opmode_oneshot)\n",
    "result, obj_rot = sim.simxGetObjectOrientation(indy_virtual, handle, -1, sim.simx_opmode_oneshot)\n",
    "\n",
    "print()\n",
    "\n",
    "for i in range(3):\n",
    "    t_pos_vir.append(obj_pos[i])\n",
    "\n",
    "for i in range(3):\n",
    "    t_pos_vir.append(obj_rot[i]/np.pi*180)\n",
    "\n",
    "print(\"Joint Position (real):\", np.round(j_pos_act, 2))\n",
    "print(\"Joint Position (simulation):\", np.round(j_pos_vir, 2))\n",
    "\n",
    "print()\n",
    "print(\"Task Position (real):\", np.round(t_pos_act,2))\n",
    "print(\"Task Position (simulation):\", np.round(t_pos_vir,2))\n",
    "\n",
    "\n",
    "\n",
    "#그리퍼================================\n",
    "handles_grip = []\n",
    "#hFeederJoint ={-1,-1,-1}\n",
    "j_pos_vir3 = []       \n",
    "\n",
    "for i in range(2):\n",
    "    object_name1 = 'gripper_joint' + str(i)\n",
    "    print(object_name1)\n",
    "    result3, handle3=sim.simxGetObjectHandle(indy_virtual, object_name1, sim.simx_opmode_blocking)\n",
    "\n",
    "    \n",
    "    #print(result3,\",\", handle3)\n",
    "    if result3 != sim.simx_return_ok:\n",
    "        raise Exception('could not get object handle for first joint')                \n",
    "    else:\n",
    "        handles_grip.append(handle3)\n",
    "        result3, jnt_angle3 = sim.simxGetJointPosition(indy_virtual, handle3, sim.simx_opmode_oneshot)\n",
    "        j_pos_vir3.append(jnt_angle3/math.pi*180)        \n",
    "\n",
    "print(\"Gripper Joint Position (simulation):\", np.round(j_pos_vir3, 2))\n",
    "\n",
    "\n",
    "# ==================================================================\n",
    "print(\" \")\n",
    "print(\"GET Position finish!\")\n",
    "\n"
   ]
  },
  {
   "cell_type": "code",
   "execution_count": 2,
   "id": "1b538032",
   "metadata": {},
   "outputs": [
    {
     "name": "stdout",
     "output_type": "stream",
     "text": [
      "cover\n",
      "0 83\n",
      "Cover Joint Position (simulation): [0.]\n",
      "\n"
     ]
    }
   ],
   "source": [
    "# 커버 조인트 =======================================\n",
    "# indy_virtual = sim.simxStart('127.0.0.1', 19997, True, True, 5000, 5)\n",
    "# result = sim.simxStartSimulation(indy_virtual,sim.simx_opmode_blocking)\n",
    "\n",
    "# For simulation robota\n",
    "handles4 = []\n",
    "j_pos_vir4 = []\n",
    "t_pos_vir4 = []\n",
    "\n",
    "for i in range(1):\n",
    "    object_name4 = 'cover'\n",
    "    print(object_name4)\n",
    "    result, handle4=sim.simxGetObjectHandle(indy_virtual, object_name4, sim.simx_opmode_blocking)\n",
    "    print(result, handle4)\n",
    "    if result != sim.simx_return_ok:\n",
    "        print(\"Except!!!!!!!!!!!\") \n",
    "        raise Exception('could not get object handle for first joint')                \n",
    "    else:\n",
    "        handles4.append(handle4)\n",
    "        result, jnt_angle4 = sim.simxGetJointPosition(indy_virtual, handle4, sim.simx_opmode_oneshot)\n",
    "        j_pos_vir4.append(jnt_angle4/math.pi*180)\n",
    "\"\"\"        \n",
    "object_name4 = 'tool_coordinate'\n",
    "result, handle4=sim.simxGetObjectHandle(indy_virtual, object_name4, sim.simx_opmode_blocking)\n",
    "\n",
    "result, obj_pos4 = sim.simxGetObjectPosition(indy_virtual, handle4, -1, sim.simx_opmode_oneshot)\n",
    "result, obj_rot4 = sim.simxGetObjectOrientation(indy_virtual, handle4, -1, sim.simx_opmode_oneshot)\n",
    "\n",
    "print()\n",
    "\n",
    "for i in range(3):\n",
    "    t_pos_vir4.append(obj_pos[i])\n",
    "\n",
    "for i in range(3):\n",
    "    t_pos_vir4.append(obj_rot[i]/np.pi*180)\n",
    "\"\"\"\n",
    "\n",
    "print(\"Cover Joint Position (simulation):\", np.round(j_pos_vir4, 2))\n",
    "\n",
    "print()\n"
   ]
  },
  {
   "cell_type": "code",
   "execution_count": 6,
   "id": "10a225ee",
   "metadata": {},
   "outputs": [
    {
     "name": "stdout",
     "output_type": "stream",
     "text": [
      "완료\n"
     ]
    }
   ],
   "source": [
    "\n",
    "def grip_program(g_pos):\n",
    "    for i in range(2):\n",
    "        object_name3 = 'gripper_joint' + str(i)    \n",
    "        print(object_name3)\n",
    "        result, handle3=sim.simxGetObjectHandle(indy_virtual, object_name3, sim.simx_opmode_blocking)\n",
    "        handles3.append(handle3)\n",
    "    if(g_pos==True):\n",
    "        sim.simxSetJointTargetPosition(indy_virtual, handles3[0] , -0.01 ,sim.simx_opmode_oneshot)\n",
    "        sim.simxSetJointTargetPosition(indy_virtual, handles3[1] , +0.01 ,sim.simx_opmode_oneshot)\n",
    "    else:\n",
    "        sim.simxSetJointTargetPosition(indy_virtual, handles3[0] , +0.005 ,sim.simx_opmode_oneshot)\n",
    "        sim.simxSetJointTargetPosition(indy_virtual, handles3[1] , -0.005 ,sim.simx_opmode_oneshot)\n",
    "        \n",
    "def MoveVirtual(pos):\n",
    "    for i in range(6): #실제 것을 가상에 넣어줌\n",
    "        sim.simxSetJointTargetPosition(indy_virtual, handles[i] , float(pos[i])*math.pi/180 ,sim.simx_opmode_oneshot)        \n",
    "\n",
    "def getObjectH(str):\n",
    "    result, G_handle=sim.simxGetObjectHandle(indy_virtual, str , sim.simx_opmode_blocking)\n",
    "    return G_handle\n",
    "\n",
    "def MoveToObject(str,pos): \n",
    "    object_name = str\n",
    "\n",
    "    handle_gun=sim.simxGetObjectHandle(indy_virtual, object_name, sim.simx_opmode_blocking)\n",
    "    sim.simxSetObjectPosition(indy_virtual, handle_gun, -1 ,pos, sim.simx_opmode_blocking)\n",
    "        #sim.simxSetJointTargetPosition(indy_virtual, handle,, sim.simx_opmode_oneshot)\n",
    "        \n",
    "def moveObject(str,pos,rpos):\n",
    "    object_name = str\n",
    "    #print(object_name)\n",
    "    handle_gun=sim.simxGetObjectHandle(indy_virtual, object_name, sim.simx_opmode_blocking)\n",
    "    for i in range(40):\n",
    "        pos[0]+=0.02\n",
    "        rpos[1]+=(4*math.pi)/180\n",
    "        rpos[0]+=(4*math.pi)/180\n",
    "        if(i<20):\n",
    "            rpos[2]+=(1.9*math.pi)/180\n",
    "        else:\n",
    "            rpos[2]-=(1.9*math.pi)/180\n",
    "        #rpos[1]+=(1.9*math.pi)/180\n",
    "        #sim.simxSetObjectPosition(indy_virtual, handle_gun, -1 ,pos, sim.simx_opmode_blocking)\n",
    "        sim.simxSetObjectOrientation(indy_virtual, handle_gun, -1, rpos, sim.simx_opmode_blocking) \n",
    "        #sim.simxSetJointTargetPosition(indy_virtual, handle,, sim.simx_opmode_oneshot)\n",
    "\n",
    "print(\"완료\")"
   ]
  },
  {
   "cell_type": "markdown",
   "id": "083e2d03",
   "metadata": {},
   "source": [
    "## 3-2. Object_Position data acquisition"
   ]
  },
  {
   "cell_type": "code",
   "execution_count": 4,
   "id": "e78106b5",
   "metadata": {},
   "outputs": [
    {
     "name": "stdout",
     "output_type": "stream",
     "text": [
      "Cap Position (sim): [  0.68  -0.29   0.96   8.59  29.76 175.71]\n",
      "\n"
     ]
    }
   ],
   "source": [
    "# 주유캡 ========================================\n",
    "\n",
    "d_pos_vir = []\n",
    "\n",
    "object_name = 'cap_visual'\n",
    "result2, handle2=sim.simxGetObjectHandle(indy_virtual, object_name, sim.simx_opmode_blocking)\n",
    "\n",
    "\n",
    "result2, obj_pos2 = sim.simxGetObjectPosition(indy_virtual, handle2, -1, sim.simx_opmode_oneshot)\n",
    "result2, obj_rot2 = sim.simxGetObjectOrientation(indy_virtual, handle2, -1, sim.simx_opmode_oneshot)\n",
    "\n",
    "t_pos_vir.clear()\n",
    "\n",
    "for i in range(3):\n",
    "    t_pos_vir.append(obj_pos2[i])\n",
    "\n",
    "for i in range(3):\n",
    "    t_pos_vir.append(obj_rot2[i]/np.pi*180)\n",
    "\n",
    "sleep(0.01)\n",
    "print(\"Cap Position (sim):\", np.round(t_pos_vir,2))\n",
    "print()\n",
    "\n",
    "\n",
    "# cpos0 = [-1.305061936378479, 0.15069915354251862, -2.6375179290771484]\n",
    "# sim.simxSetObjectOrientation(indy_virtual, handle2, -1, cpos0, sim.simx_opmode_blocking)\n",
    "\n",
    "\n",
    "#  ========================================\n",
    "\n"
   ]
  },
  {
   "cell_type": "code",
   "execution_count": 7,
   "id": "f8657057",
   "metadata": {},
   "outputs": [
    {
     "name": "stdout",
     "output_type": "stream",
     "text": [
      "Gun Position (sim): [0. 0. 0. 0. 0. 0.]\n",
      "\n"
     ]
    }
   ],
   "source": [
    "\n",
    "sleep(0.01)\n",
    "# 건의 베이스 ========================================\n",
    "\n",
    "d_pos_vir7 = []\n",
    "\n",
    "handle7 = getObjectH('gun1_1')\n",
    "\n",
    "result7, obj_pos7 = sim.simxGetObjectPosition(indy_virtual, handle7, -1, sim.simx_opmode_oneshot)\n",
    "result7, obj_rot7 = sim.simxGetObjectOrientation(indy_virtual, handle7, -1, sim.simx_opmode_oneshot)\n",
    "\n",
    "t_pos_vir.clear()\n",
    "t_pos_vir.clear()\n",
    "for i in range(3):\n",
    "    t_pos_vir.append(obj_pos7[i])\n",
    "\n",
    "for i in range(3):\n",
    "    t_pos_vir.append(obj_rot7[i]/np.pi*180)\n",
    "\n",
    "sleep(0.01)\n",
    "print(\"Gun Position (sim):\", np.round(t_pos_vir,2))\n",
    "print()\n"
   ]
  },
  {
   "cell_type": "code",
   "execution_count": 13,
   "id": "715ac296",
   "metadata": {},
   "outputs": [
    {
     "name": "stdout",
     "output_type": "stream",
     "text": [
      "Grip Base Position (sim): [  0.57  -0.28   0.99 -87.08   6.37 -84.09]\n",
      "\n"
     ]
    }
   ],
   "source": [
    "# 그리퍼의 베이스 ========================================\n",
    "\n",
    "d_pos_vir6 = []\n",
    "\n",
    "handle6 = getObjectH('gripper_base')\n",
    "\n",
    "result6, obj_pos6 = sim.simxGetObjectPosition(indy_virtual, handle6, -1, sim.simx_opmode_oneshot)\n",
    "result6, obj_rot6 = sim.simxGetObjectOrientation(indy_virtual, handle6, -1, sim.simx_opmode_oneshot)\n",
    "\n",
    "t_pos_vir.clear()\n",
    "\n",
    "for i in range(3):\n",
    "    t_pos_vir.append(obj_pos6[i])\n",
    "\n",
    "for i in range(3):\n",
    "    t_pos_vir.append(obj_rot6[i]/np.pi*180)\n",
    "\n",
    "sleep(0.01)\n",
    "print(\"Grip Base Position (sim):\", np.round(t_pos_vir,2))\n",
    "print()\n"
   ]
  },
  {
   "cell_type": "code",
   "execution_count": null,
   "id": "0e482be9",
   "metadata": {},
   "outputs": [],
   "source": [
    "#     handles_gun=[]\n",
    "#     object_name = str\n",
    "#     #print(object_name)\n",
    "#     result, handle_gun=sim.simxGetObjectHandle(indy_virtual, object_name, sim.simx_opmode_blocking)\n",
    "#     if result != sim.simx_return_ok:\n",
    "#         raise Exception('could not get object handle for first joint')                \n",
    "#     else:\n",
    "#         handles_gun.append(handle_gun)\n",
    "#         #sim.simxSetJointTargetPosition(indy_virtual, handle3 , 1 ,sim.simx_opmode_oneshot) \n",
    "#         sim.simxSetObjectPosition(indy_virtual, handle_gun, -1 ,pos, sim.simx_opmode_blocking)\n",
    "#         #sim.simxSetJointTargetPosition(indy_virtual, handle,, sim.simx_opmode_oneshot)\n",
    "        \n",
    "        \n",
    "# # 주유건 ========================================\n",
    "# handles_gun=[]\n",
    "# d_pos_vir = []\n",
    "\n",
    "# object_name = 'cap_visual'\n",
    "# result2, handle2=sim.simxGetObjectHandle(indy_virtual, object_name, sim.simx_opmode_blocking)\n",
    "# handles2.append(handle)\n",
    "\n",
    "# result2, obj_pos2 = sim.simxGetObjectPosition(indy_virtual, handle2, -1, sim.simx_opmode_oneshot)\n",
    "# result2, obj_rot2 = sim.simxGetObjectOrientation(indy_virtual, handle2, -1, sim.simx_opmode_oneshot)\n",
    "\n",
    "# t_pos_vir.clear()\n",
    "\n",
    "# for i in range(3):\n",
    "#     t_pos_vir.append(obj_pos2[i])\n",
    "\n",
    "# for i in range(3):\n",
    "#     t_pos_vir.append(obj_rot2[i]/np.pi*180)\n",
    "\n",
    "# sleep(0.01)\n",
    "# print(\"Cap Position (sim):\", np.round(t_pos_vir,2))\n",
    "# print()\n",
    "\n",
    "\n",
    "# # cpos0 = [-1.305061936378479, 0.15069915354251862, -2.6375179290771484]\n",
    "# # sim.simxSetObjectOrientation(indy_virtual, handle2, -1, cpos0, sim.simx_opmode_blocking)\n",
    "\n",
    "\n",
    "# #  ========================================"
   ]
  },
  {
   "cell_type": "markdown",
   "id": "d113a5d4",
   "metadata": {},
   "source": [
    "## 4. Set position"
   ]
  },
  {
   "cell_type": "code",
   "execution_count": 9,
   "id": "1aedd746",
   "metadata": {},
   "outputs": [
    {
     "name": "stdout",
     "output_type": "stream",
     "text": [
      "Connect: Server IP (192.168.120.163)\n",
      "gripper_joint0\n",
      "gripper_joint1\n",
      "joint to zero, gripper to zero Finish!!! \n"
     ]
    }
   ],
   "source": [
    "### For actual robot\n",
    "indy_actual.connect()\n",
    "\n",
    "# Zero position\n",
    "j_pos_act = [0, 0, 0, 0, 0, 0]\n",
    "\n",
    "# Home position\n",
    "#j_pos_act = [0, -15, -90, 0, -75, 0]\n",
    "indy_actual.joint_move_to(j_pos_act)  # Move 6th joint\n",
    "\n",
    "indy_actual.disconnect()\n",
    "\n",
    "### For virtual robot\n",
    "handles = []\n",
    "#Zero position\n",
    "j_pos_vir = [0, 0, 0, 0, 0, 0]\n",
    "\n",
    "# Home position\n",
    "#j_pos_vir = [0, -15, -90, 0, -75, 0]\n",
    "\n",
    "for i in range(6):\n",
    "    object_name = 'joint' + str(i)\n",
    "    #print(object_name)\n",
    "    result, handle=sim.simxGetObjectHandle(indy_virtual, object_name, sim.simx_opmode_blocking)\n",
    "    if result != sim.simx_return_ok:\n",
    "        raise Exception('could not get object handle for first joint')                \n",
    "    else:\n",
    "        handles.append(handle)\n",
    "        sim.simxSetJointTargetPosition(indy_virtual, handle, j_pos_vir[i]*math.pi/180, sim.simx_opmode_oneshot)\n",
    "\n",
    "# 그리퍼 리셋위치\n",
    "handles3 = []        \n",
    "for i in range(2):\n",
    "    object_name3 = 'gripper_joint' + str(i)\n",
    "    print(object_name3)\n",
    "    result, handle3=sim.simxGetObjectHandle(indy_virtual, object_name3, sim.simx_opmode_blocking)\n",
    "    if result != sim.simx_return_ok:\n",
    "        raise Exception('could not get object handle for first joint')                \n",
    "    else:\n",
    "        handles3.append(handle3)\n",
    "        #sim.simxSetJointTargetVelocity(indy_virtual, handle3, 0.01, sim.simx_opmode_oneshot) \n",
    "        #sim.simxSetJointMaxForce(indy_virtual, handle3, 0.01, sim.simx_opmode_oneshot)\n",
    "        sim.simxSetJointTargetPosition(indy_virtual, handle3, 0.00, sim.simx_opmode_oneshot)\n",
    "        #sim.simxSetJointTargetPosition(indy_virtual, handle3, 0.00, sim.simx_opmode_oneshot)\n",
    "        #sim.simxSetJointPosition(indy_virtual, handle3, 0.01, sim.simx_opmode_oneshot)\n",
    "        \n",
    "print(\"joint to zero, gripper to zero Finish!!! \")        "
   ]
  },
  {
   "cell_type": "code",
   "execution_count": 14,
   "id": "67fb6cd5",
   "metadata": {},
   "outputs": [
    {
     "name": "stdout",
     "output_type": "stream",
     "text": [
      "완료\n"
     ]
    }
   ],
   "source": []
  },
  {
   "cell_type": "markdown",
   "id": "1bc672b2",
   "metadata": {},
   "source": [
    "## 5. Synchronization"
   ]
  },
  {
   "cell_type": "markdown",
   "id": "38ebe83b",
   "metadata": {},
   "source": [
    "### 5-2. Synchronization (w threaded)"
   ]
  },
  {
   "cell_type": "code",
   "execution_count": 10,
   "id": "622fe967",
   "metadata": {},
   "outputs": [
    {
     "name": "stdout",
     "output_type": "stream",
     "text": [
      "Main Thread\n",
      "Connect: Server IP (192.168.120.163)\n",
      "[49, 51, 53, 55, 57, 59]\n"
     ]
    }
   ],
   "source": [
    "#멀티 쓰레드로 동기화\n",
    "def cps_program():\n",
    "    indy_actual.connect()\n",
    "\n",
    "    handles = []\n",
    "\n",
    "    for i in range(6):\n",
    "            object_name = 'joint' + str(i)    \n",
    "            #print(object_name)\n",
    "            result, handle=sim.simxGetObjectHandle(indy_virtual, object_name, sim.simx_opmode_blocking)\n",
    "            handles.append(handle)\n",
    "\n",
    "    print(handles)\n",
    "\n",
    "    isCtrOn = True\n",
    "    \n",
    "\n",
    "    while isCtrOn:\n",
    "        j_pos = indy_actual.get_joint_pos()\n",
    "        time.sleep(0.002)\n",
    "\n",
    "        for i in range(6): #실제 것을 가상에 넣어줌\n",
    "            sim.simxSetJointTargetPosition(indy_virtual, handles[i] , float(j_pos[i])*math.pi/180 ,sim.simx_opmode_oneshot)\n",
    "\n",
    "        if keyboard.is_pressed(\"q\"): # 비상정지\n",
    "            isCtrOn = False\n",
    "            print(\"Escape the program\")\n",
    "\n",
    "    indy_actual.disconnect()\n",
    "\n",
    "t = threading.Thread(target=cps_program)\n",
    "t.start()\n",
    "print(\"Main Thread\")\n"
   ]
  },
  {
   "cell_type": "code",
   "execution_count": 11,
   "id": "8a199cbb",
   "metadata": {},
   "outputs": [
    {
     "name": "stdout",
     "output_type": "stream",
     "text": [
      "grip Thread\n",
      "Connect: Server IP (192.168.120.163)\n",
      "[65, 70]\n"
     ]
    }
   ],
   "source": [
    "def grip_program():\n",
    "    indy_actual.connect()\n",
    "\n",
    "    handles3 = []\n",
    "\n",
    "    for i in range(2):\n",
    "            object_name3 = 'gripper_joint' + str(i)    \n",
    "            #print(object_name)\n",
    "            result, handle3=sim.simxGetObjectHandle(indy_virtual, object_name3, sim.simx_opmode_blocking)\n",
    "            handles3.append(handle3)\n",
    "\n",
    "    print(handles3)\n",
    "\n",
    "    isCtrOn = True\n",
    "    \n",
    "    case = 1;\n",
    "    while isCtrOn:\n",
    "        g_pos = indy_actual.get_endtool_do(0)\n",
    "        time.sleep(0.002)\n",
    "\n",
    "        #for i in range(2): #실제 것을 가상에 넣어줌\n",
    "        if g_pos == 1:\n",
    "            #print(\"grip\")\n",
    "            sim.simxSetJointTargetPosition(indy_virtual, handles3[0] , -0.01 ,sim.simx_opmode_oneshot)\n",
    "            sim.simxSetJointTargetPosition(indy_virtual, handles3[1] , +0.01 ,sim.simx_opmode_oneshot)\n",
    "        elif g_pos == 0:\n",
    "            #print(\"don't grip\")\n",
    "            sim.simxSetJointTargetPosition(indy_virtual, handles3[0] , +0.005 ,sim.simx_opmode_oneshot)\n",
    "            sim.simxSetJointTargetPosition(indy_virtual, handles3[1] , -0.005 ,sim.simx_opmode_oneshot)\n",
    "        \n",
    "        if keyboard.is_pressed(\"q\"): # 비상정지\n",
    "            isCtrOn = False\n",
    "            print(\"Escape the program\")\n",
    "\n",
    "    indy_actual.disconnect()    \n",
    "    \n",
    "t3 = threading.Thread(target=grip_program)\n",
    "t3.start()\n",
    "\n",
    "print(\"grip Thread\")\n"
   ]
  },
  {
   "cell_type": "code",
   "execution_count": null,
   "id": "ff435c75",
   "metadata": {},
   "outputs": [],
   "source": [
    "# #멀티 쓰레드로 동기화\n",
    "# #cap용\n",
    "# def cap_program():\n",
    "#     indy_actual.connect()\n",
    "\n",
    "#     isCtrOn = True\n",
    "#     cap_rotation = True\n",
    "#     state1 = indy_actual.get_joint_pos() \n",
    "#     ang_x5_p=[3*np.pi/180, 0, 0]\n",
    "#     ang_x5_m=[-3*np.pi/180, 0, 0]\n",
    "#     print(state1)\n",
    "#     print(state1[5])\n",
    "#     print(\"READY!!\")\n",
    "#     while isCtrOn:\n",
    "#         while cap_rotation:\n",
    "#             time.sleep(0.002)\n",
    "#             state2 = indy_actual.get_joint_pos() \n",
    "#             state12 = state1[5] - state2[5]\n",
    "#             print(\"12 :\",state12)\n",
    "#             if(state12 >= 3.0):\n",
    "#                 sim.simxSetObjectOrientation(indy_virtual, handle2, handle2, ang_x5_p, sim.simx_opmode_blocking) \n",
    "#                 # 수동각도 조절 확인용\n",
    "#                 state1 = state2 #이전상태에 덮어\n",
    "#             if(state12 <= -3.0):\n",
    "#                 sim.simxSetObjectOrientation(indy_virtual, handle2, handle2, ang_x5_m, sim.simx_opmode_blocking) \n",
    "#                 state1 = state2 \n",
    "        \n",
    "#         if keyboard.is_pressed(\"q\"): # 비상정지\n",
    "#             isCtrOn = False\n",
    "#             print(\"Escape the program\")\n",
    "\n",
    "#     indy_actual.disconnect()\n",
    "\n",
    "# t4 = threading.Thread(target=cap_program)\n",
    "\n",
    "# print(\"Cap Thread\")\n"
   ]
  },
  {
   "cell_type": "markdown",
   "id": "24845e74",
   "metadata": {},
   "source": [
    "### 5-3. Motion test"
   ]
  },
  {
   "cell_type": "code",
   "execution_count": 12,
   "id": "34f240d5",
   "metadata": {},
   "outputs": [
    {
     "name": "stdout",
     "output_type": "stream",
     "text": [
      "j_pos1 [7.273373183657427e-19, 4.5031023062772e-19, -2.6858549534309008e-18, -4.06700399078728e-18, 3.062221976389522e-18, 3.4034645294658858e-18]\n",
      "t_pos1 [1.0384913750912977e-16, -0.18649999999999997, 1.328, 180.0, 180.0, 179.99999999999997]\n",
      "Move finished!\n",
      "Move finished!\n",
      "Move finished!\n",
      "캡이동완료\n",
      "Move finished!\n",
      "Move finished!\n"
     ]
    },
    {
     "data": {
      "text/plain": [
       "True"
      ]
     },
     "execution_count": 12,
     "metadata": {},
     "output_type": "execute_result"
    }
   ],
   "source": [
    "j_pos1 = indy_actual.get_joint_pos()\n",
    "t_pos1 = indy_actual.get_task_pos()\n",
    "print(\"j_pos1\", j_pos1)\n",
    "print(\"t_pos1\", t_pos1)\n",
    "\n",
    "#t_pos1[2] += 0.1\n",
    "\n",
    "#m미터\n",
    "# a = math.pi/180\n",
    "# print(\"a : \", a)\n",
    "pos1_0 = [0, 0, 0, 0, 0, 0]\n",
    "pos1_1 = [ -8.2, 8.17, -50.77, 2.72, -24.18, 0]# 주유구 \n",
    "pos1_2 = [ -12.41, -4.47, -41.41, 5.91, -46.82, 0]\n",
    "pos1_3 = [ -12.41, -11.12, -31.53, 10.19, -38.55, 80]\n",
    "pos1_4 = [-12.41, -15.37, -25.54, 7.73, -51.88, 80]\n",
    "pos1_5 = [-11.540000000000513, -25.885970516971472, -3.458552709779018, 5.917335558695991, -67.0076907835122, 80.00000000000186]\n",
    "pos1_6 = [-11.540000000000513, -25.885970516971472, -3.458552709779018, 5.917335558695991, -67.0076907835122, 180]\n",
    "#------------------------------------------------------------\n",
    "pos2 = [ -0, -34.54, -73.35, 0, 4.12, 0]\n",
    "pos3_t = [t_pos_vir[0], t_pos_vir[1], t_pos_vir[2], t_pos_vir[3], t_pos_vir[4], t_pos_vir[5]]\n",
    "pos3_j = [89.95, 0.05, -44.13, 9.43, -67.14,-7] #문을 향해 가는 거 조인트\n",
    "#indy_actual.task_move_to(t_pos1)  # Move along z-axis\n",
    "\n",
    "\n",
    "#캡회전용\n",
    "cpos0 = [-1.305061936378479, 0.15069915354251862, -2.6375179290771484]\n",
    "cpos1 = [-1.1481508016586304, 0.23286861181259155, -2.667511463165283]\n",
    "cpos2 = [-0.9852372407913208, 0.30930647253990173, -2.7112579345703125]\n",
    "cpos3 = [-0.8146280646324158, 0.3776935338973999, -2.768874168395996]\n",
    "cpos4 = [-0.6352848410606384, 0.43559715151786804, -2.8400003910064697]\n",
    "cpos5 = [-0.251635879278183, 0.5104982852935791, -3.0166308879852295]\n",
    "cpos6 = [-0.05134158954024315, 0.5236824154853821, -3.1158998012542725]\n",
    "cpos7 = [0.1499752253293991, 0.5193758606910706, 3.06673264503479]\n",
    "cpos8 = [0.34835800528526306, 0.4978337287902832, 2.9698803424835205]\n",
    "\n",
    "jpos0 = 80\n",
    "jpos1 = 92\n",
    "jpos2 = 102\n",
    "jpos3 = 112.85\n",
    "jpos4 = 125.4\n",
    "jpos5 = 147.43\n",
    "jpos6 = 155.8\n",
    "jpos7 = 165.3\n",
    "jpos8 = 178.3\n",
    "end_num = 1\n",
    "\n",
    "\n",
    "##반목문 안됌 스트링 이라서\n",
    "# for i in range(4): #0 1 2 3\n",
    "#         pos_name = 'pos1_' + str(i)    \n",
    "#         print(pos_name)\n",
    "#         indy_actual.joint_move_to(pos_name)\n",
    "#         sleep(1)\n",
    "#         if(indy_actual.get_joint_pos() == pos_name):\n",
    "#             continue\n",
    "        \n",
    "        \n",
    "endtool_type = 0\n",
    "\"\"\"\n",
    "indy_actual.joint_move_to(pos1_1)\n",
    "indy_actual.wait_for_move_finish()\n",
    "indy_actual.joint_move_to(pos1_2) \n",
    "indy_actual.wait_for_move_finish()\n",
    "#indy_actual.joint_move_to(pos1_3)\n",
    "indy_actual.wait_for_move_finish()\n",
    "\"\"\"\n",
    "indy_actual.joint_move_to(pos1_4)\n",
    "indy_actual.wait_for_move_finish()\n",
    "\n",
    "indy_actual.set_endtool_do(endtool_type, 0) #벌린다\n",
    "\n",
    "indy_actual.joint_move_to(pos1_5)\n",
    "indy_actual.wait_for_move_finish()\n",
    "\n",
    "\n",
    "sleep(0.1)\n",
    "indy_actual.set_endtool_do(endtool_type, 1) #잡았다.\n",
    "indy_actual.wait_for_move_finish()\n",
    "#cap 회전\n",
    "\n",
    "indy_actual.joint_move_to(pos1_6) # 그리퍼 회전\n",
    "end_num = 1\n",
    "while(end_num):\n",
    "    j_pos1 = indy_actual.get_joint_pos() \n",
    "    if(j_pos1[5] >= jpos8 ):\n",
    "        sim.simxSetObjectOrientation(indy_virtual, handle2, -1, cpos8, sim.simx_opmode_blocking)\n",
    "        end_num = 0 #while 종료\n",
    "    elif(j_pos1[5] >= jpos7 ):\n",
    "        sim.simxSetObjectOrientation(indy_virtual, handle2, -1, cpos7, sim.simx_opmode_blocking)\n",
    "    elif(j_pos1[5] >= jpos6 ):\n",
    "        sim.simxSetObjectOrientation(indy_virtual, handle2, -1, cpos6, sim.simx_opmode_blocking)\n",
    "    elif(j_pos1[5] >= jpos5 ):\n",
    "        sim.simxSetObjectOrientation(indy_virtual, handle2, -1, cpos5, sim.simx_opmode_blocking)\n",
    "    elif(j_pos1[5] >= jpos4 ):\n",
    "        sim.simxSetObjectOrientation(indy_virtual, handle2, -1, cpos4, sim.simx_opmode_blocking)\n",
    "    elif(j_pos1[5] >= jpos3 ):\n",
    "        sim.simxSetObjectOrientation(indy_virtual, handle2, -1, cpos3, sim.simx_opmode_blocking)\n",
    "    elif(j_pos1[5] >= jpos2 ):\n",
    "        sim.simxSetObjectOrientation(indy_virtual, handle2, -1, cpos2, sim.simx_opmode_blocking)\n",
    "    elif(j_pos1[5] >= jpos1 ):\n",
    "        sim.simxSetObjectOrientation(indy_virtual, handle2, -1, cpos1, sim.simx_opmode_blocking)\n",
    "    elif(j_pos1[5] >= jpos0 ):\n",
    "        sim.simxSetObjectOrientation(indy_virtual, handle2, -1, cpos0, sim.simx_opmode_blocking)\n",
    "        \n",
    "print(\"캡이동완료\")\n",
    "indy_actual.wait_for_move_finish()\n",
    "\n",
    "\n",
    "#캡 잡고이동\n",
    "    \n",
    "indy_actual.wait_for_move_finish()\n",
    "\n",
    "#캡 놔주기\n",
    "\n",
    "\n",
    "#주유기를 향해 가자\n",
    "\n",
    "#주유건 잡기\n",
    "\n",
    "#주유건 잡고 이동\n",
    "\n",
    "#주유건 차에 꽂아\n",
    "\n",
    "#여기서 부터 반대로 작동하자\n",
    "#seelp 주던가 잠깐 기다리고\n",
    "\n",
    "\n",
    "#주유건 원래 위치로\n",
    "\n",
    "\n",
    "#sleep(4)\n",
    "# indy_actual.joint_move_to(pos3) \n",
    "\n",
    "#indy_actual.joint_move_to(pos3_j) \n",
    "#indy_actual.get_inv_kin(pos3,pos1)\n",
    "\n",
    "#sleep(4)\n",
    "\n"
   ]
  },
  {
   "cell_type": "code",
   "execution_count": null,
   "id": "02bf9b72",
   "metadata": {},
   "outputs": [],
   "source": [
    "indy_actual.go_home()"
   ]
  },
  {
   "cell_type": "code",
   "execution_count": 9,
   "id": "db6afc3b",
   "metadata": {},
   "outputs": [],
   "source": [
    "indy_actual.stop_motion()"
   ]
  },
  {
   "cell_type": "code",
   "execution_count": 11,
   "id": "47b62157",
   "metadata": {},
   "outputs": [],
   "source": [
    "indy_actual.go_zero()"
   ]
  },
  {
   "cell_type": "markdown",
   "id": "e3757fb1",
   "metadata": {},
   "source": [
    "## gripper 수동"
   ]
  },
  {
   "cell_type": "code",
   "execution_count": 7,
   "id": "33ea7ab9",
   "metadata": {},
   "outputs": [
    {
     "data": {
      "text/plain": [
       "0"
      ]
     },
     "execution_count": 7,
     "metadata": {},
     "output_type": "execute_result"
    }
   ],
   "source": [
    "\n",
    "endtool_type = 0\n",
    "indy_actual.set_endtool_do(endtool_type, 0)\n",
    "# 0 off, 1 on\n",
    "sleep(1)\n",
    "indy_actual.get_endtool_do(endtool_type)\n",
    "\n"
   ]
  },
  {
   "cell_type": "markdown",
   "id": "b1055dce",
   "metadata": {},
   "source": [
    "## 수동각도 조절 확인용(본인좌표계)"
   ]
  },
  {
   "cell_type": "code",
   "execution_count": 1,
   "id": "5fdc90a3",
   "metadata": {},
   "outputs": [
    {
     "ename": "NameError",
     "evalue": "name 'np' is not defined",
     "output_type": "error",
     "traceback": [
      "\u001b[1;31m---------------------------------------------------------------------------\u001b[0m",
      "\u001b[1;31mNameError\u001b[0m                                 Traceback (most recent call last)",
      "Cell \u001b[1;32mIn[1], line 1\u001b[0m\n\u001b[1;32m----> 1\u001b[0m ang_x5\u001b[38;5;241m=\u001b[39m[\u001b[38;5;241m-\u001b[39m\u001b[38;5;241m5\u001b[39m\u001b[38;5;241m*\u001b[39m\u001b[43mnp\u001b[49m\u001b[38;5;241m.\u001b[39mpi\u001b[38;5;241m/\u001b[39m\u001b[38;5;241m180\u001b[39m, \u001b[38;5;241m0\u001b[39m, \u001b[38;5;241m0\u001b[39m]\n\u001b[0;32m      2\u001b[0m sim\u001b[38;5;241m.\u001b[39msimxSetObjectOrientation(indy_virtual, handle2, handle2, ang_x5, sim\u001b[38;5;241m.\u001b[39msimx_opmode_blocking)\n",
      "\u001b[1;31mNameError\u001b[0m: name 'np' is not defined"
     ]
    }
   ],
   "source": [
    "\n",
    "ang_x5=[-5*np.pi/180, 0, 0]\n",
    "sim.simxSetObjectOrientation(indy_virtual, handle2, handle2, ang_x5, sim.simx_opmode_blocking) \n",
    "\n"
   ]
  },
  {
   "cell_type": "markdown",
   "id": "e8f3cd4a",
   "metadata": {},
   "source": [
    "## 주유캡 실험"
   ]
  },
  {
   "cell_type": "code",
   "execution_count": null,
   "id": "24b7a84d",
   "metadata": {},
   "outputs": [
    {
     "name": "stdout",
     "output_type": "stream",
     "text": [
      "Move finished!\n"
     ]
    }
   ],
   "source": [
    "# cpos0 = [-1.305061936378479, 0.15069915354251862, -2.6375179290771484]\n",
    "# cpos1 = [-1.1481508016586304, 0.23286861181259155, -2.667511463165283]\n",
    "# cpos2 = [-0.9852372407913208, 0.30930647253990173, -2.7112579345703125]\n",
    "# cpos3 = [-0.8146280646324158, 0.3776935338973999, -2.768874168395996]\n",
    "# cpos4 = [-0.6352848410606384, 0.43559715151786804, -2.8400003910064697]\n",
    "# cpos5 = [-0.251635879278183, 0.5104982852935791, -3.0166308879852295]\n",
    "# cpos6 = [-0.05134158954024315, 0.5236824154853821, -3.1158998012542725]\n",
    "# cpos7 = [0.1499752253293991, 0.5193758606910706, 3.06673264503479]\n",
    "# cpos8 = [0.34835800528526306, 0.4978337287902832, 2.9698803424835205]\n",
    "\n",
    "# jpos0 = 80\n",
    "# jpos1 = 92\n",
    "# jpos2 = 102\n",
    "# jpos3 = 112.85\n",
    "# jpos4 = 125.4\n",
    "# jpos5 = 147.43\n",
    "# jpos6 = 155.8\n",
    "# jpos7 = 165.3\n",
    "# jpos8 = 181.3\n",
    "# #디폴트 위치\n",
    "# sim.simxSetObjectOrientation(indy_virtual, handle2, -1, cpos0, sim.simx_opmode_blocking)\n",
    "# #위치출력\n",
    "# #sim.simxGetObjectOrientation(indy_virtual, handle2,-1,sim.simx_opmode_blocking)\n",
    "\n",
    "\n",
    "# #t4.start() # 캡회전 시작\n",
    "\n",
    "# indy_actual.joint_move_to(pos1_5)\n",
    "# indy_actual.wait_for_move_finish()\n",
    "# indy_actual.set_endtool_do(endtool_type, 1) #잡았다.\n",
    "# indy_actual.joint_move_to(pos1_6) # 그리퍼 회전\n",
    "# end_num = 1\n",
    "# while(end_num):\n",
    "#     j_pos1 = indy_actual.get_joint_pos() \n",
    "#     if(j_pos1[5] >= jpos8 ):\n",
    "#         end_num = 0\n",
    "#         sim.simxSetObjectOrientation(indy_virtual, handle2, -1, cpos8, sim.simx_opmode_blocking)\n",
    "#     elif(j_pos1[5] >= jpos7 ):\n",
    "#         sim.simxSetObjectOrientation(indy_virtual, handle2, -1, cpos7, sim.simx_opmode_blocking)\n",
    "#     elif(j_pos1[5] >= jpos6 ):\n",
    "#         sim.simxSetObjectOrientation(indy_virtual, handle2, -1, cpos6, sim.simx_opmode_blocking)\n",
    "#     elif(j_pos1[5] >= jpos5 ):\n",
    "#         sim.simxSetObjectOrientation(indy_virtual, handle2, -1, cpos5, sim.simx_opmode_blocking)\n",
    "#     elif(j_pos1[5] >= jpos4 ):\n",
    "#         sim.simxSetObjectOrientation(indy_virtual, handle2, -1, cpos4, sim.simx_opmode_blocking)\n",
    "#     elif(j_pos1[5] >= jpos3 ):\n",
    "#         sim.simxSetObjectOrientation(indy_virtual, handle2, -1, cpos3, sim.simx_opmode_blocking)\n",
    "#     elif(j_pos1[5] >= jpos2 ):\n",
    "#         sim.simxSetObjectOrientation(indy_virtual, handle2, -1, cpos2, sim.simx_opmode_blocking)\n",
    "#     elif(j_pos1[5] >= jpos1 ):\n",
    "#         sim.simxSetObjectOrientation(indy_virtual, handle2, -1, cpos1, sim.simx_opmode_blocking)\n",
    "#     elif(j_pos1[5] >= jpos0 ):\n",
    "#         sim.simxSetObjectOrientation(indy_virtual, handle2, -1, cpos0, sim.simx_opmode_blocking)\n",
    "#         #while 종료\n",
    "    \n",
    "\n",
    "# indy_actual.wait_for_move_finish()\n",
    "\n"
   ]
  },
  {
   "cell_type": "markdown",
   "id": "0f9b8ccb",
   "metadata": {},
   "source": [
    "## 캡 회전과 리셋"
   ]
  },
  {
   "cell_type": "code",
   "execution_count": 105,
   "id": "ef974c6e",
   "metadata": {},
   "outputs": [],
   "source": [
    "#캡 리셋\n",
    "cpos0 = [-1.305061936378479, 0.15069915354251862, -2.6375179290771484]\n",
    "sim.simxSetObjectOrientation(indy_virtual, handle2, -1, cpos0, sim.simx_opmode_blocking)\n",
    "\n",
    "#회전후 주유캡\n",
    "cpos_r1 = [0.6774745583534241, -0.2876648008823395, 0.9610174298286438]\n",
    "crot_r1 = [0.34835800528526306, 0.4978337287902832, 2.9698803424835205]\n",
    "\n",
    "sim.simxSetObjectPosition(indy_virtual, handle2, -1, cpos_r1, sim.simx_opmode_blocking)\n",
    "#sim.simxSetObjectOrientation(indy_virtual, handle2, -1, crot_r1, sim.simx_opmode_blocking)\n",
    "\n",
    "cpos_g1 = [0.652474582195282, -0.2876648008823395, 0.9610174298286438]\n",
    "crot_g1 = [0.34835800528526306, 0.4978337287902832, 2.9698803424835205]\n",
    "\n",
    "\n",
    "# 캡 거치 후\n",
    "# cpos_r2 = [0.5649999976158142, -0.2150000035762787, 1.0110174417495728]\n",
    "# crot_r2 = [0.2423277646303177, 0.3160492181777954, -2.0395920276641846]\n",
    "# sim.simxSetObjectPosition(indy_virtual, handle2, -1, cpos_r2, sim.simx_opmode_blocking)\n",
    "# sim.simxSetObjectOrientation(indy_virtual, handle2, -1, crot_r2, sim.simx_opmode_blocking)"
   ]
  },
  {
   "cell_type": "markdown",
   "id": "be4c5e63",
   "metadata": {},
   "source": [
    "## (주유캡)물체의 현재 위치 회전 얻기"
   ]
  },
  {
   "cell_type": "code",
   "execution_count": 65,
   "id": "cc65e11a",
   "metadata": {},
   "outputs": [
    {
     "name": "stdout",
     "output_type": "stream",
     "text": [
      "[0.6774745583534241, -0.2876648008823395, 0.9610174298286438]\n",
      "[0.1499752253293991, 0.5193758606910706, 3.06673264503479]\n"
     ]
    }
   ],
   "source": [
    "result5, CAPPOS = sim.simxGetObjectPosition(indy_virtual, handle2,-1,sim.simx_opmode_blocking)\n",
    "result5, CAPROT = sim.simxGetObjectOrientation(indy_virtual, handle2,-1,sim.simx_opmode_blocking)\n",
    "\n",
    "print(CAPPOS)\n",
    "print(CAPROT)"
   ]
  },
  {
   "cell_type": "markdown",
   "id": "b1392bd9",
   "metadata": {},
   "source": [
    "## 로봇팔의 조인트 포지션 추출"
   ]
  },
  {
   "cell_type": "code",
   "execution_count": 28,
   "id": "6a7d63c7",
   "metadata": {},
   "outputs": [
    {
     "name": "stdout",
     "output_type": "stream",
     "text": [
      "j_pos1 [29.821080261711227, -2.470198962537931, 66.39296860781592, -1.5204015403529867e-13, 59.999999999998224, 25.000000000001123]\n",
      "t_pos1 [-0.3273106828615692, -0.40257768698873964, 0.7761945564010295, -147.85545460798457, -48.76789082233378, 169.9401432319136]\n"
     ]
    }
   ],
   "source": [
    "j_pos1 = indy_actual.get_joint_pos()\n",
    "t_pos1 = indy_actual.get_task_pos()\n",
    "print(\"j_pos1\", j_pos1)\n",
    "print(\"t_pos1\", t_pos1)\n"
   ]
  },
  {
   "cell_type": "markdown",
   "id": "729b5717",
   "metadata": {},
   "source": [
    "## 실험_로봇팔 캡 뺄때"
   ]
  },
  {
   "cell_type": "code",
   "execution_count": 101,
   "id": "d71f9241",
   "metadata": {
    "scrolled": false
   },
   "outputs": [
    {
     "name": "stdout",
     "output_type": "stream",
     "text": [
      "Move finished!\n",
      "Move finished!\n",
      "Move finished!\n",
      "Move finished!\n",
      "Move finished!\n",
      "Move finished!\n",
      "Move finished!\n",
      "Move finished!\n"
     ]
    },
    {
     "data": {
      "text/plain": [
       "True"
      ]
     },
     "execution_count": 101,
     "metadata": {},
     "output_type": "execute_result"
    }
   ],
   "source": [
    "cpos5 = [-0.251635879278183, 0.5104982852935791, -3.0166308879852295]\n",
    "\n",
    "pos1_4 = [-12.41, -15.37, -25.54, 7.73, -51.88, 80]\n",
    "pos1_5 = [-11.540000000000513, -25.885970516971472, -3.458552709779018, 5.917335558695991, -67.0076907835122, 80.00000000000186]\n",
    "pos1_6 = [-11.540000000000513, -25.885970516971472, -3.458552709779018, 5.917335558695991, -67.0076907835122, 180]\n",
    "\n",
    "\n",
    "\n",
    "# indy_actual.joint_move_to(pos1_5)\n",
    "# indy_actual.wait_for_move_finish()\n",
    "\n",
    "# endtool_type = 0\n",
    "\n",
    "# indy_actual.set_endtool_do(endtool_type, 1) #잡았다.\n",
    "# indy_actual.wait_for_move_finish()\n",
    "# #cap 회전\n",
    "# indy_actual.joint_move_to(pos1_6) # 그리퍼 회전\n",
    "# end_num = 1\n",
    "\n",
    "\n",
    "indy_actual.wait_for_move_finish()\n",
    "\n",
    "\n",
    "\n",
    "pos2_1 = [-11.540000000000203, -25.288261152567905, -3.982572202645658, 5.9173355586958385, -67.00769078350964, 179.99999999999588]\n",
    "pos2_2 = [-11.540000000000203, -25.288261152567905, -3.2714464503504423, 5.9173355586958385, -67.00769078350964, 179.99999999999588]\n",
    "pos2_3 = [-11.540000000000203, -23.187389063862376, -7.120332097201785, 5.9173355586958385, -67.00769078350964, 179.99999999999588]\n",
    "pos2_4 = [-11.540000000000203, -18.10328037630656, -7.120332097201785, 5.9173355586958385, -67.00769078350964, 179.99999999999588]\n",
    "pos2_5 = [-16.077726683778902, -18.10328037630656, -7.120332097201785, 5.9173355586958385, -67.00769078350964, 179.99999999999588]\n",
    "# pos2_6 = \n",
    "# pos2_7 =\n",
    "\n",
    "pos2_99 = [-58.41247639622677, -21.949062971724743, -22.28096150931279, 113.79026344975578, -77.13098852329146, -48.01777988775711]\n",
    "\n",
    "cpos_r1 = [0.6774745583534241, -0.2876648008823395, 0.9610174298286438]\n",
    "crot_r1 = [0.34835800528526306, 0.4978337287902832, 2.9698803424835205]\n",
    "\n",
    "sim.simxSetObjectPosition(indy_virtual, handle2, -1, cpos_r1, sim.simx_opmode_blocking)\n",
    "sim.simxSetObjectOrientation(indy_virtual, handle2, -1, crot_r1, sim.simx_opmode_blocking)\n",
    "\n",
    "indy_actual.joint_move_to(pos2_1)\n",
    "indy_actual.wait_for_move_finish()\n",
    "indy_actual.joint_move_to(pos2_2)\n",
    "indy_actual.wait_for_move_finish()\n",
    "indy_actual.joint_move_to(pos2_3)\n",
    "indy_actual.wait_for_move_finish()\n",
    "cpos_g2 = [0.652474582195282, -0.2876648008823395, 0.9610174298286438]\n",
    "crot_g2 = [0.34835800528526306, 0.4978337287902832, 2.9698803424835205]\n",
    "sim.simxSetObjectPosition(indy_virtual, handle2, -1, cpos_g2, sim.simx_opmode_blocking)\n",
    "sim.simxSetObjectOrientation(indy_virtual, handle2, -1, crot_g2, sim.simx_opmode_blocking)\n",
    "indy_actual.joint_move_to(pos2_4)\n",
    "indy_actual.wait_for_move_finish()\n",
    "indy_actual.joint_move_to(pos2_5)\n",
    "indy_actual.wait_for_move_finish()\n",
    "indy_actual.joint_move_to(pos2_99)\n",
    "cpos_g99 = [0.5649999976158142, -0.2150000035762787, -1.0110174417495728]\n",
    "crot_g99 = [0.2423277646303177, 0.3160492181777954, -2.0395920276641846]\n",
    "sim.simxSetObjectPosition(indy_virtual, handle2, -1, cpos_g99, sim.simx_opmode_blocking)\n",
    "sim.simxSetObjectOrientation(indy_virtual, handle2, -1, crot_g99, sim.simx_opmode_blocking)\n",
    "indy_actual.wait_for_move_finish()\n",
    "cpos_r2 = [0.5649999976158142, -0.2150000035762787, 1.0110174417495728]\n",
    "crot_r2 = [0.2423277646303177, 0.3160492181777954, -2.0395920276641846]\n",
    "sim.simxSetObjectPosition(indy_virtual, handle2, -1, cpos_r2, sim.simx_opmode_blocking)\n",
    "sim.simxSetObjectOrientation(indy_virtual, handle2, -1, crot_r2, sim.simx_opmode_blocking)\n",
    "indy_actual.wait_for_move_finish()\n",
    "\n",
    "\n"
   ]
  },
  {
   "cell_type": "code",
   "execution_count": 29,
   "id": "01c1dd19",
   "metadata": {},
   "outputs": [
    {
     "name": "stdout",
     "output_type": "stream",
     "text": [
      "0.0\n"
     ]
    },
    {
     "data": {
      "text/plain": [
       "0"
      ]
     },
     "execution_count": 29,
     "metadata": {},
     "output_type": "execute_result"
    }
   ],
   "source": [
    "# 수동 주유구 열기\n",
    "cover_o = 0 * math.pi / 180\n",
    "print(cover_ang)\n",
    "sim.simxSetJointTargetPosition(indy_virtual, handles4[0] , cover_o, sim.simx_opmode_oneshot)\n",
    "\n",
    "cover_c = 116 * math.pi / 180\n",
    "print(cover_ang)\n",
    "sim.simxSetJointTargetPosition(indy_virtual, handles4[0] , cover_c, sim.simx_opmode_oneshot)"
   ]
  },
  {
   "cell_type": "code",
   "execution_count": 106,
   "id": "25edf251",
   "metadata": {},
   "outputs": [
    {
     "name": "stdout",
     "output_type": "stream",
     "text": [
      "Move finished!\n",
      "Move finished!\n",
      "Move finished!\n",
      "Move finished!\n",
      "Move finished!\n",
      "Move finished!\n",
      "Move finished!\n"
     ]
    },
    {
     "data": {
      "text/plain": [
       "True"
      ]
     },
     "execution_count": 106,
     "metadata": {},
     "output_type": "execute_result"
    },
    {
     "name": "stderr",
     "output_type": "stream",
     "text": [
      "Exception in thread Thread-8 (grip_program):\n",
      "Traceback (most recent call last):\n",
      "  File \"C:\\Users\\danie\\anaconda3\\lib\\threading.py\", line 1016, in _bootstrap_inner\n",
      "    self.run()\n",
      "  File \"C:\\Users\\danie\\anaconda3\\lib\\threading.py\", line 953, in run\n",
      "    self._target(*self._args, **self._kwargs)\n",
      "  File \"C:\\Users\\danie\\AppData\\Local\\Temp\\ipykernel_7652\\1165812155.py\", line 18, in grip_program\n",
      "  File \"C:\\Users\\danie\\cps_tcp_ip\\indy_utils\\indydcp_client.py\", line 427, in decorated\n",
      "    error_code, _res_data, _ = args[0]._handle_command(cmd, _req_data[0], _req_data[1])\n",
      "  File \"C:\\Users\\danie\\cps_tcp_ip\\indy_utils\\indydcp_client.py\", line 411, in decorated\n",
      "    func_out = func(*args, **kwargs)\n",
      "  File \"C:\\Users\\danie\\cps_tcp_ip\\indy_utils\\indydcp_client.py\", line 617, in _handle_command\n",
      "    read_buffer = self._recv_message(read_buffer, SIZE_HEADER_COMMAND)\n",
      "  File \"C:\\Users\\danie\\cps_tcp_ip\\indy_utils\\indydcp_client.py\", line 525, in _recv_message\n",
      "    chunk = self.sock_fd.recv(size - bytes_recd)\n",
      "OSError: [WinError 10038] 소켓 이외의 개체에 작업을 시도했습니다\n"
     ]
    },
    {
     "name": "stdout",
     "output_type": "stream",
     "text": [
      "Escape the program\n"
     ]
    }
   ],
   "source": [
    "pos_co_1 = [-21.675465853885783, -16.610400981428135, -25.54098440474551, 4.059247012716895, -53.68077893429968, -3.0815211775965146e-07]\n",
    "pos_co_2 = [-21.675465853886294, -16.610400981427624, -25.540984404745, 8.601618882909928, -53.68077893429866, -3.0815212857969474e-07]\n",
    "pos_co_3 = [-17.292087997193015, -14.411310136539297, -25.22880297732277, 9.525156583076807, -58.883315033072556, -3.0815216814541204e-07]\n",
    "pos_co_4 = [-12.454402629550563, -11.18511576423427, -32.5508053255829, 8.816708498015334, -53.68077893429866, -3.0815210470148915e-07]\n",
    "pos_co_5 = [-11.065292487304083, -9.645638718704351, -33.605289224350756, 8.816708498015592, -53.68077893429968, -3.081520200657899e-07]\n",
    "pos_co_6 = [-9.393287872525038, -9.645638718704607, -30.396429798885254, 8.816708498015336, -59.51325571268822, -3.081519879300619e-07]\n",
    "\n",
    "cover_o = 0 * math.pi / 180\n",
    "cover_c = 116 * math.pi / 180\n",
    "sim.simxSetJointTargetPosition(indy_virtual, handles4[0] , cover_c, sim.simx_opmode_oneshot)\n",
    "sleep(7)\n",
    "\n",
    "cover_z = 100 * math.pi / 180\n",
    "\n",
    "sim.simxSetJointTargetPosition(indy_virtual, handles4[0] , cover_z, sim.simx_opmode_oneshot) #조금 열림\n",
    "sleep(0.5)\n",
    "#로봇 팔 고\n",
    "indy_actual.joint_move_to(pos_co_1)\n",
    "indy_actual.wait_for_move_finish()\n",
    "sleep(0.5)\n",
    "cover_1 = 85 * math.pi / 180\n",
    "cover_2 = 70 * math.pi / 180\n",
    "cover_3 = 40 * math.pi / 180\n",
    "cover_4 = 20 * math.pi / 180\n",
    "indy_actual.joint_move_to(pos_co_1)\n",
    "\n",
    "indy_actual.wait_for_move_finish()\n",
    "\n",
    "indy_actual.joint_move_to(pos_co_2)\n",
    "sim.simxSetJointTargetPosition(indy_virtual, handles4[0] , cover_1, sim.simx_opmode_oneshot)\n",
    "sleep(0.1)\n",
    "sim.simxSetJointTargetPosition(indy_virtual, handles4[0] , cover_2, sim.simx_opmode_oneshot)\n",
    "indy_actual.wait_for_move_finish()\n",
    "sleep(0.1)\n",
    "sim.simxSetJointTargetPosition(indy_virtual, handles4[0] , cover_3, sim.simx_opmode_oneshot)\n",
    "indy_actual.joint_move_to(pos_co_3)\n",
    "indy_actual.wait_for_move_finish()\n",
    "indy_actual.joint_move_to(pos_co_4)\n",
    "sim.simxSetJointTargetPosition(indy_virtual, handles4[0] , cover_4, sim.simx_opmode_oneshot)\n",
    "indy_actual.wait_for_move_finish()\n",
    "indy_actual.joint_move_to(pos_co_5)\n",
    "sleep(0.2)\n",
    "indy_actual.wait_for_move_finish()\n",
    "indy_actual.joint_move_to(pos_co_6)\n",
    "sim.simxSetJointTargetPosition(indy_virtual, handles4[0] , cover_o, sim.simx_opmode_oneshot)\n",
    "indy_actual.wait_for_move_finish()"
   ]
  },
  {
   "cell_type": "code",
   "execution_count": 8,
   "id": "6cc242cb",
   "metadata": {},
   "outputs": [],
   "source": [
    "#이거 무슨 동작?\n",
    "indy_actual.joint_move_to(pos_co_1)\n",
    "indy_actual.wait_for_move_finish()\n",
    "indy_actual.joint_move_to(pos_co_2)\n",
    "indy_actual.wait_for_move_finish()\n",
    "indy_actual.joint_move_to(pos_co_3)\n",
    "indy_actual.wait_for_move_finish()"
   ]
  },
  {
   "cell_type": "code",
   "execution_count": 23,
   "id": "4c1f64a4",
   "metadata": {
    "scrolled": true
   },
   "outputs": [
    {
     "name": "stdout",
     "output_type": "stream",
     "text": [
      "[-11.78046642586196, -25.653485484444715, -4.543030914813336]\n"
     ]
    },
    {
     "ename": "NameError",
     "evalue": "name 'pos2_1' is not defined",
     "output_type": "error",
     "traceback": [
      "\u001b[1;31m---------------------------------------------------------------------------\u001b[0m",
      "\u001b[1;31mNameError\u001b[0m                                 Traceback (most recent call last)",
      "Cell \u001b[1;32mIn[23], line 11\u001b[0m\n\u001b[0;32m      9\u001b[0m \u001b[38;5;28mprint\u001b[39m(pos_movs)\n\u001b[0;32m     10\u001b[0m sim\u001b[38;5;241m.\u001b[39msimxSetObjectPosition(indy_virtual, handle2, \u001b[38;5;241m-\u001b[39m\u001b[38;5;241m1\u001b[39m , pos_movs, sim\u001b[38;5;241m.\u001b[39msimx_opmode_blocking) \n\u001b[1;32m---> 11\u001b[0m \u001b[38;5;28;01mif\u001b[39;00m(j_pos1 \u001b[38;5;241m==\u001b[39m \u001b[43mpos2_1\u001b[49m): \u001b[38;5;66;03m#2_1로 움직일 때 까지\u001b[39;00m\n\u001b[0;32m     12\u001b[0m     end\u001b[38;5;241m=\u001b[39m\u001b[38;5;241m0\u001b[39m\n",
      "\u001b[1;31mNameError\u001b[0m: name 'pos2_1' is not defined"
     ]
    }
   ],
   "source": [
    "end=1\n",
    "pos_movs=[]\n",
    "while(end):\n",
    "    pos_movs.clear()\n",
    "    j_pos1 = indy_actual.get_task_pos()\n",
    "    for i in range(3): \n",
    "        pos_mov = pos1_6[i] - j_pos1[i]\n",
    "        pos_movs.append(pos_mov)\n",
    "    print(pos_movs)\n",
    "    sim.simxSetObjectPosition(indy_virtual, handle2, -1 , pos_movs, sim.simx_opmode_blocking) \n",
    "    if(j_pos1 == pos2_1): #2_1로 움직일 때 까지\n",
    "        end=0"
   ]
  },
  {
   "cell_type": "code",
   "execution_count": 89,
   "id": "90f0bd71",
   "metadata": {},
   "outputs": [],
   "source": [
    "# 주유건 을 향해 갈떄\n",
    "gpos_1 = [29.821080261710204, 4.999999999999871, 58.859592993944474, -3.447385332437253e-14, 59.99999999999795, 25.000000000000508]\n",
    "\n",
    "#엔드툴 = 0\n",
    "indy_actual.joint_move_to(gpos_1) \n",
    "#엔드툴 1\n",
    "\n",
    "\n"
   ]
  },
  {
   "cell_type": "code",
   "execution_count": 21,
   "id": "662bee2f",
   "metadata": {},
   "outputs": [
    {
     "name": "stdout",
     "output_type": "stream",
     "text": [
      "Object parent set successfully\n"
     ]
    }
   ],
   "source": [
    "returnCode = sim.simxSetObjectParent(indy_virtual,handle7 , handle6 , True, sim.simx_opmode_oneshot)\n",
    "if returnCode == sim.simx_return_ok:\n",
    "    print('Object parent set successfully')\n",
    "else:\n",
    "    print('Failed to set object parent')\n",
    "    \n",
    "\n"
   ]
  },
  {
   "cell_type": "code",
   "execution_count": 90,
   "id": "28e4a471",
   "metadata": {},
   "outputs": [
    {
     "name": "stdout",
     "output_type": "stream",
     "text": [
      "Move finished!\n",
      "Move finished!\n",
      "Move finished!\n",
      "Move finished!\n"
     ]
    },
    {
     "data": {
      "text/plain": [
       "True"
      ]
     },
     "execution_count": 90,
     "metadata": {},
     "output_type": "execute_result"
    }
   ],
   "source": [
    "# 주유건 을 향해 갈떄\n",
    "gpos_1 = [29.821080261710204, 4.999999999999871, 58.859592993944474, -3.447385332437253e-14, 59.99999999999795, 25.000000000000508]\n",
    "\n",
    "#엔드툴 = 0 , 안잡기\n",
    "indy_actual.set_endtool_do(endtool_type, 0)\n",
    "\n",
    "indy_actual.joint_move_to(gpos_1) \n",
    "#엔드툴 1 , 잡기\n",
    "indy_actual.set_endtool_do(endtool_type, 1)\n",
    "\n",
    "\n",
    "gpos_2 = [29.821080261711227, -2.470198962537931, 66.39296860781592, -1.5204015403529867e-13, 59.999999999998224, 25.000000000001123]\n",
    "gpos_3 = [34.997358698641996, -9.23774208893203, 70.71580339312514, -1.4333629490349933e-13, 59.999999999995886, 25.000000000001123]\n",
    "gpos_4 = [37.604200806937484, -11.711634478388264, 72.04904444739888, -1.4633954828852346e-13, 59.999999999995886, 25.000000000001123]\n",
    "gpos_5 = [48.717177107534724, -11.711634478388264, 72.04904444739888, -1.4454207367521897e-13, 59.999999999995886, 25.000000000001123]\n",
    "\n",
    "\n",
    "indy_actual.joint_move_to(gpos_2) \n",
    "indy_actual.wait_for_move_finish()\n",
    "indy_actual.joint_move_to(gpos_3) \n",
    "indy_actual.wait_for_move_finish()\n",
    "indy_actual.joint_move_to(gpos_4) \n",
    "indy_actual.wait_for_move_finish()\n",
    "indy_actual.joint_move_to(gpos_5) \n",
    "indy_actual.wait_for_move_finish() \n",
    "# 뺀거 완료\n",
    "# 주유구에 가는 중\n",
    "gpos_11 = [8.475813656551114e-09, 7.614618748379192e-13, -1.2249876839609434e-12, -1.0904611949533579e-14, -3.2605962788142137e-12, 150.03641984199731]\n",
    "gpos_12 = [-2.174572582136113, 23.605712915775182, -37.97526887338557, -0.3384580938756405, -101.08059885832829, 176.94870034166362]\n",
    "gpos_13 = [-3.2004412671954627, 22.943382835281874, -43.16510522503674, 3.1889508098065718, -100.93639613723653, 180.48664236386531]\n",
    "gpos_14 = [-3.2004412671954627, 16.890464105407965, -41.065996761745794, 3.1889508098065718, -100.93639613723653, 180.48664236386531]\n",
    "gpos_15 = [-4.033210010762421, 12.945603300126795, -38.030157933548786, 3.1889508098065718, -100.93639613723653, 180.48664236386531]\n",
    "gpos_16 = [-4.033210010762292, 10.739106659227266, -36.46892595606351, 3.188950809806507, -100.936396137237, 180.48664236386102]\n",
    "gpos_17 = [-4.03321001076242, 10.274229967750044, -36.15548999225416, 3.1889508098064248, -100.93639613723623, 180.48664236386045]\n",
    "gpos_18 =  [-4.033210010762288, 9.832796690275613, -35.78044674661708, 3.1889508098064336, -100.93639613723782, 180.486642363861]\n",
    "gpos_19 = [-4.033210010762426, 9.374425805465988, -35.554459627580165, 3.1889508098064123, -100.9363961372371, 180.48664236386108]\n",
    "gpos_20 =  [-4.033210010762459, 11.12946399199539, -36.87610257172215, 3.188950809806442, -100.93639613723684, 180.48664236386097]\n",
    "\n",
    "\n",
    "#indy_actual.joint_move_to(gpos_11) \n",
    "indy_actual.wait_for_move_finish()\n",
    "indy_actual.joint_move_to(gpos_12) \n",
    "indy_actual.wait_for_move_finish()\n",
    "indy_actual.joint_move_to(gpos_13) \n",
    "indy_actual.wait_for_move_finish()\n",
    "indy_actual.joint_move_to(gpos_14) \n",
    "indy_actual.wait_for_move_finish()\n",
    "indy_actual.joint_move_to(gpos_15) \n",
    "indy_actual.wait_for_move_finish()\n",
    "\n",
    "indy_actual.joint_move_to(gpos_16) \n",
    "indy_actual.wait_for_move_finish()\n",
    "\n",
    "indy_actual.joint_move_to(gpos_17) \n",
    "indy_actual.wait_for_move_finish()\n",
    "indy_actual.joint_move_to(gpos_18) \n",
    "indy_actual.wait_for_move_finish()\n",
    "indy_actual.joint_move_to(gpos_19) \n",
    "indy_actual.wait_for_move_finish()\n"
   ]
  },
  {
   "cell_type": "code",
   "execution_count": null,
   "id": "a9118e29",
   "metadata": {},
   "outputs": [],
   "source": [
    "\n",
    "j_pos1 = indy_actual.get_joint_pos()\n",
    "t_pos1 = indy_actual.get_task_pos()\n",
    "print(\"gpos_19 = \", j_pos1)\n",
    "#print(\"t_pos1\", t_pos1)\n"
   ]
  },
  {
   "cell_type": "code",
   "execution_count": null,
   "id": "84849384",
   "metadata": {},
   "outputs": [],
   "source": [
    "\n",
    "returnCode = sim.simxSetObjectParent(indy_virtual,handle7 , -1 , True, sim.simx_opmode_oneshot)\n",
    "if returnCode == sim.simx_return_ok:\n",
    "    print('Object parent set successfully')\n",
    "else:\n",
    "    print('Failed to set object parent')\n",
    "    \n",
    "\n",
    "\n"
   ]
  }
 ],
 "metadata": {
  "kernelspec": {
   "display_name": "Python 3 (ipykernel)",
   "language": "python",
   "name": "python3"
  },
  "language_info": {
   "codemirror_mode": {
    "name": "ipython",
    "version": 3
   },
   "file_extension": ".py",
   "mimetype": "text/x-python",
   "name": "python",
   "nbconvert_exporter": "python",
   "pygments_lexer": "ipython3",
   "version": "3.10.9"
  }
 },
 "nbformat": 4,
 "nbformat_minor": 5
}
